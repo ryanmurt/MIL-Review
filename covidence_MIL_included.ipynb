{
 "cells": [
  {
   "cell_type": "code",
   "execution_count": 24,
   "id": "91239d83-7852-4625-b017-8ae47e6e5610",
   "metadata": {},
   "outputs": [],
   "source": [
    "# List of tags: \n",
    "#Critique\n",
    "#Demo - BIPOC\n",
    "#Demo - Elderly\n",
    "#Demo - Low Literacy\n",
    "#Demo - Public Library\n",
    "#Demo - University\n",
    "#Demo - Youth\n",
    "#design implications\n",
    "#Domain-Environment\n",
    "#Domain-Health\n",
    "#Domain-Other\n",
    "#Domain-Politics\n",
    "#Domain - Social Media\n",
    "#Grey lit\n",
    "#Intervention-based Individual\n",
    "#Intervention-based Social\n",
    "#Intervention-Field\n",
    "#Intervention Formal (classroom)\n",
    "#Intervention - Informal (library, community center)\n",
    "#Intervention-lab\n",
    "#Intervention - nonempirical\n",
    "#Non US\n",
    "#Ongoing study\n",
    "#Review (Intervention)\n",
    "#Review (non-intervention)\n",
    "#Theory-Inoculation\n",
    "#Topic - AI\n",
    "#Topic - Conceptual\n",
    "#Topic - Game\n",
    "#Topic - Psychology\n",
    "\n",
    "import pandas as pd\n",
    "\n",
    "def create_csv_tags(tags):\n",
    "    file_path = \"~/Desktop/covidence_included_all.csv\"\n",
    "    safe_tag = \"_\".join([tag.replace(\" \", \"\").replace(\"/\", \"_\") for tag in tags])\n",
    "    outgoing_file_path = f\"~/Desktop/{safe_tag}.csv\"\n",
    "    df = pd.read_csv(file_path)\n",
    "    \n",
    "    # Create a filter that checks if all tags are present in the 'Tags' column (case-insensitive)\n",
    "    tag_filter = df['Tags'].apply(lambda x: all(tag.lower() in str(x).lower() for tag in tags))\n",
    "    \n",
    "    filtered_df = df[tag_filter]\n",
    "    filtered_df.to_csv(outgoing_file_path, index=False)\n",
    "    print(f\"Filtered {len(filtered_df)} papers with tags {tags} and saved to desktop as '{safe_tag}.csv'\")"
   ]
  },
  {
   "cell_type": "code",
   "execution_count": 26,
   "id": "7b91af0c-b47f-4f0f-bceb-0fe2f84244c4",
   "metadata": {},
   "outputs": [
    {
     "name": "stdout",
     "output_type": "stream",
     "text": [
      "Filtered 9 papers with tags ['Topic - Game', 'Intervention-based Social'] and saved to desktop as 'Topic-Game_Intervention-basedSocial.csv'\n"
     ]
    }
   ],
   "source": [
    "# Pass in 1 or more tags\n",
    "create_csv_tags([\"Topic - Game\", \"Intervention-based Social\"])"
   ]
  },
  {
   "cell_type": "code",
   "execution_count": null,
   "id": "f979156c-8475-493c-8441-2d08dad29600",
   "metadata": {},
   "outputs": [],
   "source": []
  }
 ],
 "metadata": {
  "kernelspec": {
   "display_name": "Python 3 (ipykernel)",
   "language": "python",
   "name": "python3"
  },
  "language_info": {
   "codemirror_mode": {
    "name": "ipython",
    "version": 3
   },
   "file_extension": ".py",
   "mimetype": "text/x-python",
   "name": "python",
   "nbconvert_exporter": "python",
   "pygments_lexer": "ipython3",
   "version": "3.11.7"
  }
 },
 "nbformat": 4,
 "nbformat_minor": 5
}
