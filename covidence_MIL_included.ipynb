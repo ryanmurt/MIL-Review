{
 "cells": [
  {
   "cell_type": "code",
   "execution_count": 2,
   "id": "91239d83-7852-4625-b017-8ae47e6e5610",
   "metadata": {},
   "outputs": [],
   "source": [
    "# List of tags: \n",
    "#Critique\n",
    "#Demo - BIPOC\n",
    "#Demo - Elderly\n",
    "#Demo - Low Literacy\n",
    "#Demo - Public Library\n",
    "#Demo - University\n",
    "#Demo - Youth\n",
    "#design implications\n",
    "#Domain-Environment\n",
    "#Domain-Health\n",
    "#Domain-Other\n",
    "#Domain-Politics\n",
    "#Domain - Social Media\n",
    "#Grey lit\n",
    "#Intervention-based Individual\n",
    "#Intervention-based Social\n",
    "#Intervention-Field\n",
    "#Intervention Formal (classroom)\n",
    "#Intervention - Informal (library, community center)\n",
    "#Intervention-lab\n",
    "#Intervention - nonempirical\n",
    "#Non US\n",
    "#Ongoing study\n",
    "#Review (Intervention)\n",
    "#Review (non-intervention)\n",
    "#Theory-Inoculation\n",
    "#Topic - AI\n",
    "#Topic - Conceptual\n",
    "#Topic - Game\n",
    "#Topic - Psychology\n",
    "\n",
    "import pandas as pd\n",
    "\n",
    "def create_csv_tag(tag):\n",
    "    file_path = \"/Users/ryanmurtfeldt/Desktop/covidence_included_all.csv\"\n",
    "    # Replacing spaces and slashes to make it file-name safe\n",
    "    safe_tag = tag.replace(\" \", \"\").replace(\"/\", \"_\")\n",
    "    outgoing_file_path = f\"/Users/ryanmurtfeldt/Desktop/{safe_tag}.csv\"\n",
    "    df = pd.read_csv(file_path)\n",
    "    filtered_df = df[df['Tags'].str.contains(tag, na=False)]\n",
    "    filtered_df.to_csv(outgoing_file_path, index=False)\n",
    "    print(f\"Filtered {len(filtered_df)} papers with 'Topic - Game' tag and saved to desktop as 'filtered_topic_game.csv'\")"
   ]
  },
  {
   "cell_type": "code",
   "execution_count": 7,
   "id": "5969ab63-337d-49c0-837e-860e7e346337",
   "metadata": {},
   "outputs": [
    {
     "name": "stdout",
     "output_type": "stream",
     "text": [
      "Filtered 18 papers with 'Topic - Game' tag and saved to desktop as 'filtered_topic_game.csv'\n"
     ]
    }
   ],
   "source": [
    "create_csv_tag(\"Intervention-based Social\")"
   ]
  },
  {
   "cell_type": "code",
   "execution_count": null,
   "id": "d8c00e89-b7d0-492b-973c-1415667733fa",
   "metadata": {},
   "outputs": [],
   "source": []
  }
 ],
 "metadata": {
  "kernelspec": {
   "display_name": "Python 3 (ipykernel)",
   "language": "python",
   "name": "python3"
  },
  "language_info": {
   "codemirror_mode": {
    "name": "ipython",
    "version": 3
   },
   "file_extension": ".py",
   "mimetype": "text/x-python",
   "name": "python",
   "nbconvert_exporter": "python",
   "pygments_lexer": "ipython3",
   "version": "3.11.7"
  }
 },
 "nbformat": 4,
 "nbformat_minor": 5
}
